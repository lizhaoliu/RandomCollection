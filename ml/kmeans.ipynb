{
 "cells": [
  {
   "cell_type": "code",
   "execution_count": 36,
   "outputs": [],
   "source": [
    "import numpy as np\n",
    "import matplotlib.pyplot as plt\n",
    "\n",
    "def kmeans_np(points: np.ndarray, num_clusters, num_iterations: int) -> (np.ndarray, np.ndarray):\n",
    "    \"\"\"Calculates the KMeans cluster for each point in the input points.\"\"\"\n",
    "    \n",
    "    num_points, point_dim = points.shape[0], points.shape[-1]\n",
    "    \n",
    "    # Initializes centroids as K random points from the input points, with shape [num_clusters, point_dim].\n",
    "    centroids = points[np.random.choice(num_points, [num_clusters], replace=False)]\n",
    "    # Augments the input points to shape [num_points, num_clusters, point_dim], for example:\n",
    "    # [['x1' 'y1'] ['x2' 'y2] ['x3' 'y3']]\n",
    "    #                   ==>\n",
    "    #  [[['x1' 'y1'] [['x2' 'y2'] [['x3' 'y3']\n",
    "    #    ['x1' 'y1']  ['x2' 'y2']  ['x3' 'y3']\n",
    "    #    ['x1' 'y1']] ['x2' 'y2']] ['x3' 'y3']]]\n",
    "    # Such that we can take advantage of the vectorized subtraction later.\n",
    "    points_augmented = np.tile(points.reshape([num_points, 1, point_dim]), [1, num_clusters, 1])\n",
    "    \n",
    "    for _ in range(num_iterations):\n",
    "        # Calculates the element-wise diff of each point to each centroid, for example:\n",
    "        #  [[['x1' 'y1'] [['x2' 'y2'] [['x3' 'y3']     [[['c1x' 'c1y'] [['c1x' 'c1y'] [['c1x' 'c1y']\n",
    "        #    ['x1' 'y1']  ['x2' 'y2']  ['x3' 'y3']   -   ['c2x' 'c2y']  ['c2x' 'c2y']  ['c2x' 'c2y']\n",
    "        #    ['x1' 'y1']] ['x2' 'y2']] ['x3' 'y3']]]     ['c3x' 'c3y']] ['c3x' 'c3y']] ['c3x' 'c3y']]]\n",
    "        diff = points_augmented - centroids\n",
    "        # Calculates the distance for each point to all centroids.\n",
    "        dists = np.sqrt(np.sum(diff ** 2, axis=2))\n",
    "        # Assigns the index of the closest centroid to each point.\n",
    "        points_cluster = dists.argmin(axis=1)\n",
    "        \n",
    "        for k in range(num_clusters):\n",
    "            # Updates each centroid to be the mean of all points that belong to this cluster.\n",
    "            centroids[k] = points[points_cluster == k].mean(axis=0)\n",
    "    \n",
    "    return points_cluster, centroids\n",
    "    "
   ],
   "metadata": {
    "collapsed": false,
    "pycharm": {
     "name": "#%%\n",
     "is_executing": false
    }
   }
  },
  {
   "cell_type": "code",
   "execution_count": 37,
   "outputs": [
    {
     "data": {
      "text/plain": "<Figure size 432x288 with 1 Axes>",
      "image/png": "[encoded data removed]"
     },
     "metadata": {
      "needs_background": "light"
     },
     "output_type": "display_data"
    }
   ],
   "source": [
    "x, k = np.random.normal(size=[200, 2]), 4\n",
    "clusters, centroids = kmeans_np(x, k, 10)\n",
    "colors = ['b', 'g', 'r', 'c', 'm', 'y', 'k']\n",
    "for i in range(k):\n",
    "    pts = x[clusters == i]\n",
    "    # Plots the clustered points.\n",
    "    plt.scatter(pts[:, 0], pts[:, 1], c=colors[i], marker='.')\n",
    "    # Plots the centroid.\n",
    "    plt.scatter(centroids[i, 0], centroids[i, 1], c=colors[i], marker='x')\n",
    "plt.show()"
   ],
   "metadata": {
    "collapsed": false,
    "pycharm": {
     "name": "#%%\n",
     "is_executing": false
    }
   }
  }
 ],
 "metadata": {
  "language_info": {
   "codemirror_mode": {
    "name": "ipython",
    "version": 2
   },
   "file_extension": ".py",
   "mimetype": "text/x-python",
   "name": "python",
   "nbconvert_exporter": "python",
   "pygments_lexer": "ipython2",
   "version": "2.7.6"
  },
  "kernelspec": {
   "name": "python3",
   "language": "python",
   "display_name": "Python 3"
  },
  "pycharm": {
   "stem_cell": {
    "cell_type": "raw",
    "source": [],
    "metadata": {
     "collapsed": false
    }
   }
  }
 },
 "nbformat": 4,
 "nbformat_minor": 0
}