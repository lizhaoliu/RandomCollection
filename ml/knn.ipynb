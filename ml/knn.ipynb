{
 "cells": [
  {
   "cell_type": "code",
   "execution_count": 31,
   "metadata": {
    "collapsed": true,
    "pycharm": {
     "is_executing": false,
     "name": "#%%\n"
    }
   },
   "outputs": [],
   "source": [
    "from typing import Any\n",
    "\n",
    "import numpy as np\n",
    "from scipy import stats\n",
    "\n",
    "def knn(train: np.ndarray, x: np.ndarray, k: int) -> Any:\n",
    "    \"\"\"K nearest neighbors using Euclidean distance metrics.\"\"\"\n",
    "    \n",
    "    train_x, train_y = train[:, :-1], train[:, -1] \n",
    "    x = x.reshape([1, -1])\n",
    "    # Calculates the element-wise diff of input x and ground truth x, for example:\n",
    "    #  [['x' 'y']     [['train_x1' 'train_y1']\n",
    "    #   ['x' 'y']   -  ['train_x2' 'train_y2']\n",
    "    #   ['x' 'y']]     ['train_x3' 'train_y3']]\n",
    "    diff = x - train_x\n",
    "    # Calculates the Euclidean distance between each ground truth point and x.\n",
    "    dists = np.sqrt(np.sum(diff ** 2, axis=1))\n",
    "    # Fetches the top K closest train points.\n",
    "    indices = dists.argpartition(k)[:k]\n",
    "    return stats.mode(train_y[indices]).mode[0]"
   ]
  },
  {
   "cell_type": "code",
   "execution_count": 33,
   "outputs": [
    {
     "name": "stdout",
     "text": [
      "2.0\n"
     ],
     "output_type": "stream"
    }
   ],
   "source": [
    "train = np.array([[0.2, 0.2, 1],\n",
    "                  [0.1, 0.1, 1],\n",
    "                  \n",
    "                  [1.2, 1.2, 2],\n",
    "                  [1.1, 1.1, 2],\n",
    "                  \n",
    "                  [2.1, 2.2, 3],\n",
    "                  [1.9, 1.9, 3]])\n",
    "print(knn(train, np.array([.9, .9]), 2))"
   ],
   "metadata": {
    "collapsed": false,
    "pycharm": {
     "name": "#%%\n",
     "is_executing": false
    }
   }
  },
  {
   "cell_type": "code",
   "execution_count": null,
   "outputs": [],
   "source": [
    "\n"
   ],
   "metadata": {
    "collapsed": false,
    "pycharm": {
     "name": "#%%\n"
    }
   }
  }
 ],
 "metadata": {
  "language_info": {
   "codemirror_mode": {
    "name": "ipython",
    "version": 2
   },
   "file_extension": ".py",
   "mimetype": "text/x-python",
   "name": "python",
   "nbconvert_exporter": "python",
   "pygments_lexer": "ipython2",
   "version": "2.7.6"
  },
  "kernelspec": {
   "name": "python3",
   "language": "python",
   "display_name": "Python 3"
  },
  "pycharm": {
   "stem_cell": {
    "cell_type": "raw",
    "source": [],
    "metadata": {
     "collapsed": false
    }
   }
  }
 },
 "nbformat": 4,
 "nbformat_minor": 0
}